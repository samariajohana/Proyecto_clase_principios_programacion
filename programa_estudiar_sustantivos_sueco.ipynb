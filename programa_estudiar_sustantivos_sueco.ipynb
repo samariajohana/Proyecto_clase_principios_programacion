{
 "cells": [
  {
   "cell_type": "markdown",
   "id": "c7265cdf-5e73-462a-a865-bdbdfd1cc6d0",
   "metadata": {},
   "source": [
    "# Proyecto para la clase \"Principios de programación y análisis de datos\""
   ]
  },
  {
   "cell_type": "markdown",
   "id": "4939cc1f-f3eb-4d11-ba96-0290a7370365",
   "metadata": {},
   "source": [
    "## Programa para estudiar Sueco\n",
    "Decidí adaptar el proyecto \"Gestor de Becas\" solicitado para este proyecto y desarrollar un programa para estudiar un idioma.  La idea surgió ya que llevo clases de Sueco, y estábamos viendo el tema de sustantivos. En sueco, los sustantivos pueden tener dos géneros,  \"neutrum (ett)\" o \"utum (en)\". y ya que no hay una regla específica que indique a qué género pertenece el sustantivo, como en el español que si un sustantivo termina con la letra \"a\" sabemos que es femenino. De tal manera que debemos memorizarlos. Y hacerlo es muy importante, ya que es fundamental conocer el género del sustantivo para poder hablar de ellos de forma indefinida o indefinida, en plural, singular, etc. \n",
    "\n",
    "Dicho esto, se me ocurrió hacer un programa que te ayude a memorizar los géneros de los sustantivos suecos. Para fines prácticos, la lista de sustantivos que contiene por el momento la aplicación es limitada, pero la idea es ampliarla, y más adelanta posiblemente convertirla en una aplicación más formal y robusta para cualquier persona que quiera estudiar los sustantivos Suecos, ya que no existen suficientes herramientas para el estudio del idioma. \n",
    "\n",
    "Adicionalmente, agregué una sección para estudiar los números (muy limitada) esto solo con la finalidad de aplicar la mayor cantidad de elementos al código así como se proponía con la aplicación del \"Gestor de becas\". "
   ]
  },
  {
   "cell_type": "markdown",
   "id": "19a85c71-4f6e-4e83-9b67-280125c67c26",
   "metadata": {},
   "source": [
    "# Estructura del programa"
   ]
  },
  {
   "cell_type": "markdown",
   "id": "c666e3b1-d944-41b3-91db-b421f4ee269a",
   "metadata": {},
   "source": [
    "**El programa cuenta con un menú con 3 opciones:**\n",
    "\n",
    "1. Opción 1. estudiar los sutantivos\n",
    "2. Opción 2. estudiar los números\n",
    "3. Opción 3. salir \n",
    "\n",
    "El programa se ejecuta hasta que el usuario seleccione la opción 3. Al finalizar el programa, se muestra en pantalla el puntaje y calificación, además  se crea un archivo \".txt\" que contiene los errores del usuario, para que este pueda reciba retroalimentación y pueda continuar reforzando los puntos débiles. "
   ]
  },
  {
   "cell_type": "markdown",
   "id": "70a226e6-bcfe-4295-8dd9-f69da74b2c63",
   "metadata": {},
   "source": [
    "# Guía rápida"
   ]
  },
  {
   "cell_type": "markdown",
   "id": "31428c55-ea37-4a0a-9a32-a96ace7a9ed9",
   "metadata": {},
   "source": [
    "Para la evaluación de la actividad, se sugiere utilizar las respuestas que están almacenadas en la lista \"Sustantiv\" y el diccionario \"numeros\". La lista de listas \"Substantiv\" tiene la siguiente estructura: \n",
    "1. Cada elemento de la lista corresponde a un sustantivo\n",
    "2. La posición 0 de cada lista dentro de la lista, contine el sustantivo\n",
    "3. La posición 1 contiene el género: en / ett\n",
    "4. La posición 2 contiene la forma indefinida del sustantivo\n",
    "5. La posición 3, contiene la forma definida del sustantivo\n",
    "6. Finalmente, la posición 4 contiene la traducción más común al español\n",
    "\n",
    "El diccionario de números tiene la siguiente estructura:\n",
    "- Las keys del diccionario corresponden al valor númerico (0, 1, 2, 3, etc)\n",
    "- Los values conrrespondientes a cada key, contienen el número escrito en sueco. "
   ]
  },
  {
   "cell_type": "code",
   "execution_count": 153,
   "id": "b740d365-db0c-4feb-8f8a-543d335a55b5",
   "metadata": {},
   "outputs": [],
   "source": [
    "'''\n",
    "Definimos una lista de lista que contenga sustantivos comunes en sueco\n",
    "además su correspondiente género \"en\" o \"ett\", su forma indefinida (Obestämd)\n",
    "su forma definida (Bestämd) y su traducción más común al español \n",
    "'''\n",
    "\n",
    "substantiv=[\n",
    "    ['stol', 'en', 'en stol', 'stolen', 'silla'],\n",
    "    ['hus', 'ett','ett hus','huset', 'casa'],\n",
    "    ['affär', 'en', 'en affär','affären', 'negocio'],\n",
    "    ['hotell', 'ett', 'ett hotell', 'hotellet', 'hotel'],\n",
    "    ['boll', 'en', 'en boll', 'bollen', 'pelota'],\n",
    "    ['frimärke', 'ett', 'ett frimärke', 'frimärket', 'sello postal'],\n",
    "    ['pojke', 'en', 'en pojke', 'pojken', 'chico'],\n",
    "    ['kvinna', 'en', 'en knvinna', 'kvinnan', 'mujer'],\n",
    "    ['öga', 'ett', 'ett öga', 'ögat', 'ojo'],\n",
    "    ['säng', 'en', 'en säng', 'sängen', 'cama'],\n",
    "    ['kille', 'en', 'en kille', 'killen', 'chico'],\n",
    "    ['mamma', 'en', 'en mamma', 'mamman', 'mamá'],\n",
    "    ['äpple', 'ett', 'ett äpple', 'äpplet', 'manzana'],\n",
    "    ['handske', 'en', 'en handske', 'handsken', 'guante'],\n",
    "    ['problem', 'ett', 'ett problem', 'problemet', 'problema'],\n",
    "    ['barn', 'ett', 'ett barn', 'barnet', 'hijos'],\n",
    "    ['syskon', 'ett', 'ett syskon', 'syskonet', 'hermanos (hombre o mujer)'],\n",
    "    ['morbror', 'en', 'en morbror', 'morbrorn, morbrodern', 'hermano de mamá'],\n",
    "    ['dotter', 'en', 'en dotter', 'dottern', 'hija'],\n",
    "    ['moster', 'en', 'en moster', 'mostern', 'hermana de mamá (tía)']   \n",
    "]\n",
    "\n",
    "'''\n",
    "Definimos un diccionario con los 10 primeros números (valor numérico en keys) y su forma escrita \n",
    "en Sueco (values)\n",
    "'''\n",
    "\n",
    "numeros= {0:'noll', 1:'ett', 2:'två', 3:'tre', 4:'fyra', 5:'fem', 6:'sex', 7:'sju', 8:'åtta', 9:'nio', 10:'tio'}"
   ]
  },
  {
   "cell_type": "code",
   "execution_count": 165,
   "id": "16b86cd9-bbc4-4eb4-b4d1-7d6465954042",
   "metadata": {},
   "outputs": [],
   "source": [
    "### bloque para definir todas las funciones que se utilizarán \n",
    "\n",
    "# variable para crear un archivo .txt donde se guarden las recomendaciones para estudiar\n",
    "recomendaciones_estudio= []\n",
    "\n",
    "# Escribimos el menú que se desplegará al usuario \n",
    "def mostrar_menu():\n",
    "    print(\"========= Aplicación para estudiar Sueco =========\")\n",
    "    print(\"Hej! Vad roligt att se.\")\n",
    "    print(\"Ingresa 1 para estudiar los sustantivos\")\n",
    "    print(\"Ingresa 2 para estudiar los números\")\n",
    "    print(\"Ingresa 3 para salir\")\n",
    "\n",
    "# función para sustantivos \n",
    "def svenska_substantiv():\n",
    "    global puntaje # debo indicar que estoy utilizando la variable globañ puntaje, de lo contrario obtengo error \n",
    "    global intentos\n",
    "    subst= substantiv[num] # acceder a la lista (sustantivo seleccionado) dentro de la lista substantiv\n",
    "    print(f\"Substantiv: {substantiv[num][0]}\")\n",
    "    print(\"Escribe el género de este sustantivo (en och ett)\")\n",
    "    respuesta_genero_sustantivo= str(input()).lower().strip()\n",
    "\n",
    "    if respuesta_genero_sustantivo == substantiv[num][1]: \n",
    "        puntaje= puntaje + 1\n",
    "        intentos= intentos + 1\n",
    "        print(\"Es correcto, bra!!\")\n",
    "    else: \n",
    "        intentos= intentos + 1\n",
    "        recomendaciones_estudio.append({'Tema': 'sustantivos', 'tu_respuesta': respuesta_genero_sustantivo,'respuesta_correcta':substantiv[num][1]})\n",
    "        print(f\"Es incorrecto, el género es: {substantiv[num][1]}\")\n",
    "        \n",
    "    # ahora preguntaremos la forma indefinida\n",
    "    print(\"Ingresa la forma Obestämd (indefinida) de ese sustantivo\")\n",
    "    respuesta_forma_indef= str(input()).lower().strip()\n",
    "\n",
    "    if respuesta_forma_indef == substantiv[num][2]:\n",
    "        puntaje= puntaje + 1\n",
    "        intentos= intentos + 1\n",
    "        print(\"Es correcto, bra!!\")\n",
    "    else:\n",
    "        intentos= intentos + 1\n",
    "        recomendaciones_estudio.append({'Tema': 'sustantivos', 'tu_respuesta': respuesta_forma_indef, 'respuesta_correcta':substantiv[num][2]})\n",
    "        print(f\"Es incorrecto, la forma es: {substantiv[num][2]}\")\n",
    "\n",
    "    # ahora preguntaremos por la forma definida \n",
    "    print(\"Ingresa la forma Bestämd (definida) de ese sustantivo\")\n",
    "    respuesta_forma_def= str(input()).lower().strip()\n",
    "\n",
    "    if respuesta_forma_def == substantiv[num][3]:\n",
    "        intentos= intentos + 1\n",
    "        puntaje= puntaje + 1\n",
    "        print(\"Es correcto, bra!!\")\n",
    "    else: \n",
    "        intentos= intentos + 1\n",
    "        recomendaciones_estudio.append({\n",
    "        'Tema': 'sustantivos',                           \n",
    "        'tu_respuesta': respuesta_forma_def,\n",
    "        'respuesta_correcta':substantiv[num][3]})\n",
    "        print(f\"Es incorrecto, la forma es: {substantiv[num][3]}\")\n",
    "\n",
    "    # por último imprimimos la traducción al español \n",
    "    print(f\"La traducción más común al español es: {substantiv[num][4]}\")\n",
    "\n",
    "# función para estudiar los números\n",
    "# tal vez no es tan práctico utilizar una suma para aprender los números, pero intenté incluir la mayor cantidad de elementos posibles\n",
    "def svenska_numeros(num1, num2):\n",
    "    global puntaje\n",
    "    global intentos\n",
    "    numero_suma= num1 + num2\n",
    "    print(f\"La suma de esos números es {numero_suma}, escribe el número en sueco\")\n",
    "    numero_en_sueco= str(input()).lower()\n",
    "    \n",
    "    if numero_en_sueco == numeros[numero_suma]: # accedemos al value correspondiente a la key (número) correspondiente al valor de la suma numérica\n",
    "        puntaje= puntaje + 1\n",
    "        intentos= intentos + 1\n",
    "        print(\"Es correcto, bra jobat!!\")\n",
    "    else: \n",
    "        intentos= intentos + 1\n",
    "        recomendaciones_estudio.append({\n",
    "        'Tema': 'números',                           \n",
    "        'tu_respuesta': numero_en_sueco,\n",
    "        'respuesta_correcta':numeros[numero_suma]})\n",
    "        print(f\"Es incorrecto. El número se escribe {numeros[numero_suma]}\")\n",
    "\n",
    "# función para mostrar puntaje final y calificación\n",
    "def puntaje_final(puntaje, intentos):\n",
    "    print(\"========================== PUNTAJE FINAL ==========================\")\n",
    "    if intentos == 0:\n",
    "        print(\"No respondiste preguntas, no hay calificación para mostrar.\")\n",
    "    else:\n",
    "        calificacion= (puntaje / intentos) * 100\n",
    "        print(f\"Obtuviste {puntaje} puntos\")\n",
    "        print(f\"Resolviste {intentos} preguntas\")\n",
    "        print(f\"Tu calificación final es: {calificacion}\")\n",
    "\n",
    "def crear_archivo_recomendaciones_estudio():\n",
    "    if len(recomendaciones_estudio) > 0:\n",
    "        with open(\"recomendaciones_estudio.txt\", \"w\", encoding='utf-8') as f:\n",
    "            f.write(\"============= RECOMENDACIONES DE ESTUDIO ============\\n\")\n",
    "            f.write(\"\\n\")\n",
    "            f.write(f\"Total de errores: {len(recomendaciones_estudio)} \\n\")\n",
    "\n",
    "            for i, elemento in enumerate(recomendaciones_estudio):\n",
    "                f.write(f\" Tema: {elemento['Tema']}\\n\")\n",
    "                f.write(f\" Tu respuesta: {elemento['tu_respuesta']}\\n\")\n",
    "                f.write(f\" Respuesta correcta: {elemento['respuesta_correcta']}\\n\")"
   ]
  },
  {
   "cell_type": "code",
   "execution_count": 167,
   "id": "5e0cf42a-b10c-4ebf-8445-46720097f320",
   "metadata": {},
   "outputs": [
    {
     "name": "stdout",
     "output_type": "stream",
     "text": [
      "========= Aplicación para estudiar Sueco =========\n",
      "Hej! Vad roligt att se.\n",
      "Ingresa 1 para estudiar los sustantivos\n",
      "Ingresa 2 para estudiar los números\n",
      "Ingresa 3 para salir\n"
     ]
    },
    {
     "name": "stdin",
     "output_type": "stream",
     "text": [
      " 1\n"
     ]
    },
    {
     "name": "stdout",
     "output_type": "stream",
     "text": [
      "Elige un número del 0 al 19\n"
     ]
    },
    {
     "name": "stdin",
     "output_type": "stream",
     "text": [
      " 1\n"
     ]
    },
    {
     "name": "stdout",
     "output_type": "stream",
     "text": [
      "Substantiv: hus\n",
      "Escribe el género de este sustantivo (en och ett)\n"
     ]
    },
    {
     "name": "stdin",
     "output_type": "stream",
     "text": [
      " 19\n"
     ]
    },
    {
     "name": "stdout",
     "output_type": "stream",
     "text": [
      "Es incorrecto, el género es: ett\n",
      "Ingresa la forma Obestämd (indefinida) de ese sustantivo\n"
     ]
    },
    {
     "name": "stdin",
     "output_type": "stream",
     "text": [
      " ett hus\n"
     ]
    },
    {
     "name": "stdout",
     "output_type": "stream",
     "text": [
      "Es correcto, bra!!\n",
      "Ingresa la forma Bestämd (definida) de ese sustantivo\n"
     ]
    },
    {
     "name": "stdin",
     "output_type": "stream",
     "text": [
      " huset\n"
     ]
    },
    {
     "name": "stdout",
     "output_type": "stream",
     "text": [
      "Es correcto, bra!!\n",
      "La traducción más común al español es: casa\n",
      "========= Aplicación para estudiar Sueco =========\n",
      "Hej! Vad roligt att se.\n",
      "Ingresa 1 para estudiar los sustantivos\n",
      "Ingresa 2 para estudiar los números\n",
      "Ingresa 3 para salir\n"
     ]
    },
    {
     "name": "stdin",
     "output_type": "stream",
     "text": [
      " 3\n"
     ]
    },
    {
     "name": "stdout",
     "output_type": "stream",
     "text": [
      "Gracias por usar la aplicación. Hej då, vi ses!\n",
      "Se ha guardado un archivo llamado \"Recomendaciones de estudio\" en tu carpeta, en caso de que hayas tenido errores\n",
      "========================== PUNTAJE FINAL ==========================\n",
      "Obtuviste 2 puntos\n",
      "Resolviste 3 preguntas\n",
      "Tu calificación final es: 66.66666666666666\n"
     ]
    }
   ],
   "source": [
    "# definimos una variable en 0 para ir sumando puntos\n",
    "puntaje= 0\n",
    "intentos= 0\n",
    "\n",
    "while True: # Loop while principal, para que el programa se ejecute hasta que el usuario ingrese la opción salir\n",
    "    mostrar_menu()\n",
    "    while True: \n",
    "        try:\n",
    "            opcion_usuario= int(input())\n",
    "            if opcion_usuario < 1 or opcion_usuario > 3: # nos aseguramos que el usuario no ingrese un número negativo o mayor a las opciones disponiles\n",
    "                print(\"Ingresa una opción válida.\")\n",
    "            else: # si la opción es válida, salimos de este loop y se continúa ejecutando el programa\n",
    "                break\n",
    "        except ValueError: # si el usuario ingresa otro valor diferente al solocitado como una letra u otro símbolo\n",
    "            print(\"Ingresa una opción válida.\")\n",
    "            \n",
    "    # si el usuario elige la opción sustantivos\n",
    "    if opcion_usuario == 1:\n",
    "        while True:\n",
    "            print(f\"Elige un número del 0 al {len(substantiv) -1}\") \n",
    "            try: \n",
    "                num= int(input())\n",
    "                if num < 1 or num > len(substantiv)-1: \n",
    "                    print(\"Ingresa un número válido.\")\n",
    "                else:\n",
    "                    break\n",
    "            except ValueError:\n",
    "                print(\"Ingresa una opción válida.\")\n",
    "        # si la opción ingresada es válida, se ejecuta la función para sustantivos       \n",
    "        svenska_substantiv()\n",
    "        \n",
    "    # si el usuario elige estudiar números\n",
    "    elif opcion_usuario == 2:\n",
    "        while True:\n",
    "            print(\"Selecciona un número del 0 al 5\")\n",
    "            num_1= int(input())\n",
    "            \n",
    "            if num_1 < 0 or num_1 > 5: # manejo de errores en caso de que el número sea negativo o mayor a 5\n",
    "                print(\"Número no válido\")\n",
    "            else:\n",
    "                break # si el número está dentro del rango, simplemente salimos de este bucle y seguimos ejecutando el programa\n",
    "                \n",
    "        while True:\n",
    "            print(\"Selecciona otro número del 0 al 5\")\n",
    "            num_2= int(input())\n",
    "            \n",
    "            if num_2 < 1 or num_2 > 5: # manejo de errores en caso de que el número sea negativo o mayor a 5\n",
    "                print(\"Número no válido\")\n",
    "            else:\n",
    "                break # si el número está dentro del rango, simplemente salimos de este bucle y seguimos ejecutando el programa\n",
    "        svenska_numeros(num_1, num_2)\n",
    "\n",
    "    # si el usuario elige salir del programa\n",
    "    elif opcion_usuario == 3:\n",
    "        print('Gracias por usar la aplicación. Hej då, vi ses!')\n",
    "        print('Se ha guardado un archivo llamado \"Recomendaciones de estudio\" en tu carpeta, en caso de que hayas tenido errores')\n",
    "        puntaje_final(puntaje, intentos)\n",
    "        crear_archivo_recomendaciones_estudio()\n",
    "        break\n",
    "    else: \n",
    "        print('Opción no valida')"
   ]
  },
  {
   "cell_type": "code",
   "execution_count": null,
   "id": "c0765116-c821-4fff-915b-2fe8502748e0",
   "metadata": {},
   "outputs": [],
   "source": []
  },
  {
   "cell_type": "code",
   "execution_count": null,
   "id": "a6b94726-f7d2-458e-ad9d-b9885265e5c9",
   "metadata": {},
   "outputs": [],
   "source": []
  }
 ],
 "metadata": {
  "kernelspec": {
   "display_name": "Python 3 (ipykernel)",
   "language": "python",
   "name": "python3"
  },
  "language_info": {
   "codemirror_mode": {
    "name": "ipython",
    "version": 3
   },
   "file_extension": ".py",
   "mimetype": "text/x-python",
   "name": "python",
   "nbconvert_exporter": "python",
   "pygments_lexer": "ipython3",
   "version": "3.12.3"
  }
 },
 "nbformat": 4,
 "nbformat_minor": 5
}
